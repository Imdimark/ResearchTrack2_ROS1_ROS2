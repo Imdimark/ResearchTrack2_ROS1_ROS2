{
 "cells": [
  {
   "cell_type": "code",
   "execution_count": 1,
   "id": "a4250025",
   "metadata": {},
   "outputs": [
    {
     "ename": "ModuleNotFoundError",
     "evalue": "No module named 'rt2_assignment1'",
     "output_type": "error",
     "traceback": [
      "\u001b[0;31m---------------------------------------------------------------------------\u001b[0m",
      "\u001b[0;31mModuleNotFoundError\u001b[0m                       Traceback (most recent call last)",
      "\u001b[0;32m/tmp/ipykernel_2368/977350734.py\u001b[0m in \u001b[0;36m<module>\u001b[0;34m\u001b[0m\n\u001b[1;32m      3\u001b[0m \u001b[0;32mimport\u001b[0m \u001b[0mactionlib\u001b[0m\u001b[0;34m\u001b[0m\u001b[0;34m\u001b[0m\u001b[0m\n\u001b[1;32m      4\u001b[0m \u001b[0;32mimport\u001b[0m \u001b[0mactionlib\u001b[0m\u001b[0;34m.\u001b[0m\u001b[0mmsg\u001b[0m\u001b[0;34m\u001b[0m\u001b[0;34m\u001b[0m\u001b[0m\n\u001b[0;32m----> 5\u001b[0;31m \u001b[0;32mimport\u001b[0m \u001b[0mrt2_assignment1\u001b[0m\u001b[0;34m.\u001b[0m\u001b[0mmsg\u001b[0m\u001b[0;34m\u001b[0m\u001b[0;34m\u001b[0m\u001b[0m\n\u001b[0m\u001b[1;32m      6\u001b[0m \u001b[0;34m\u001b[0m\u001b[0m\n\u001b[1;32m      7\u001b[0m \u001b[0;32mfrom\u001b[0m \u001b[0mIPython\u001b[0m\u001b[0;34m.\u001b[0m\u001b[0mdisplay\u001b[0m \u001b[0;32mimport\u001b[0m \u001b[0mdisplay\u001b[0m\u001b[0;34m\u001b[0m\u001b[0;34m\u001b[0m\u001b[0m\n",
      "\u001b[0;31mModuleNotFoundError\u001b[0m: No module named 'rt2_assignment1'"
     ]
    }
   ],
   "source": [
    "%matplotlib widget\n",
    "\n",
    "import actionlib\n",
    "import actionlib.msg\n",
    "import rt2_assignment1.msg\n",
    "\n",
    "from IPython.display import display\n",
    "from ipywidgets import Button, Layout, ButtonStyle, GridBox, VBox, HBox\n",
    "import numpy as np\n",
    "import matplotlib.pyplot as plt\n",
    "import jupyros as jr\n",
    "import rospy\n",
    "import math\n",
    "import timeit\n",
    "from nav_msgs.msg import Odometry\n",
    "from matplotlib import animation, rc\n",
    "from geometry_msgs.msg import Twist\n",
    "import ipywidgets as widgets\n",
    "from rt2_assignment1.srv import Command\n",
    "from rt2_assignment1.msg import PlanningActionResult\n",
    "rospy.init_node('user_interface')\n",
    "client = actionlib.SimpleActionServer('/reaching_goal', rt2_assignment1.msg.PlanningAction,clbk,auto_start=False)\n",
    "l = 0 #(lenght of the time's array)\n",
    "times = []\n",
    "actual_time = 0 \n",
    "ui_client = rospy.ServiceProxy('/user_interface', Command)\n",
    "pub = rospy.Publisher('cmd_vel', Twist, queue_size=10)\n",
    "pub1 = rospy.Publisher('odom', Odometry, queue_size = 10)\n",
    "odom = Odometry()\n",
    "msg = Twist()\n",
    "reached = 0\n",
    "cancelled = 0\n",
    "msg.linear.x = 0\n",
    "msg.linear.y = 0 \n",
    "msg.linear.z = 0\n",
    "initial_time = timeit.timeit()"
   ]
  },
  {
   "cell_type": "code",
   "execution_count": 10,
   "id": "c5e7631a",
   "metadata": {},
   "outputs": [
    {
     "name": "stdout",
     "output_type": "stream",
     "text": [
      "\n",
      "Press 1 to start the robot, 0 to stop the robot \n"
     ]
    },
    {
     "ename": "NameError",
     "evalue": "name 'widgets' is not defined",
     "output_type": "error",
     "traceback": [
      "\u001b[0;31m---------------------------------------------------------------------------\u001b[0m",
      "\u001b[0;31mNameError\u001b[0m                                 Traceback (most recent call last)",
      "\u001b[0;32m/tmp/ipykernel_13061/292662957.py\u001b[0m in \u001b[0;36m<module>\u001b[0;34m\u001b[0m\n\u001b[1;32m      1\u001b[0m \u001b[0mprint\u001b[0m\u001b[0;34m(\u001b[0m\u001b[0;34m\"\\nPress 1 to start the robot, 0 to stop the robot \"\u001b[0m\u001b[0;34m)\u001b[0m\u001b[0;34m\u001b[0m\u001b[0;34m\u001b[0m\u001b[0m\n\u001b[1;32m      2\u001b[0m \u001b[0;34m\u001b[0m\u001b[0m\n\u001b[0;32m----> 3\u001b[0;31m \u001b[0mbutton\u001b[0m \u001b[0;34m=\u001b[0m \u001b[0mwidgets\u001b[0m\u001b[0;34m.\u001b[0m\u001b[0mButton\u001b[0m\u001b[0;34m(\u001b[0m\u001b[0mdescription\u001b[0m\u001b[0;34m=\u001b[0m\u001b[0;34m\"Start!\"\u001b[0m\u001b[0;34m)\u001b[0m\u001b[0;34m\u001b[0m\u001b[0;34m\u001b[0m\u001b[0m\n\u001b[0m\u001b[1;32m      4\u001b[0m \u001b[0moutput\u001b[0m \u001b[0;34m=\u001b[0m \u001b[0mwidgets\u001b[0m\u001b[0;34m.\u001b[0m\u001b[0mOutput\u001b[0m\u001b[0;34m(\u001b[0m\u001b[0;34m)\u001b[0m\u001b[0;34m\u001b[0m\u001b[0;34m\u001b[0m\u001b[0m\n\u001b[1;32m      5\u001b[0m \u001b[0mdisplay\u001b[0m\u001b[0;34m(\u001b[0m\u001b[0mbutton\u001b[0m\u001b[0;34m,\u001b[0m \u001b[0moutput\u001b[0m\u001b[0;34m)\u001b[0m\u001b[0;34m\u001b[0m\u001b[0;34m\u001b[0m\u001b[0m\n",
      "\u001b[0;31mNameError\u001b[0m: name 'widgets' is not defined"
     ]
    }
   ],
   "source": [
    "print(\"\\nPress 1 to start the robot, 0 to stop the robot \")\n",
    "\n",
    "button = widgets.Button(description=\"Start!\")\n",
    "output = widgets.Output()\n",
    "display(button, output)\n",
    "#handle changes, the observe method of the widget can be used to register a callback.\n",
    "def on_button_clicked(b):\n",
    "    with output:\n",
    "        ui_client(\"start\")\n",
    "        starting_goal_time = timeit.timeit()\n",
    "button.on_click(on_button_clicked)\n",
    "\n",
    "button = widgets.Button(description=\"Stop!\")\n",
    "output = widgets.Output()\n",
    "display(button, output)\n",
    "#handle changes, the observe method of the widget can be used to register a callback.\n",
    "def on_button_clicked(b):\n",
    "    global cancelled\n",
    "    with output:\n",
    "        ui_client(\"stop\")\n",
    "        cancelled = cancelled + 1\n",
    "button.on_click(on_button_clicked)\n",
    "############################################################################\n",
    "#client = actionlib.SimpleActionServer('/reaching_goal', rt2_assignment1.msg.PlanningAction,clbk,auto_start=False)\n",
    "\n",
    "def clbk():\n",
    "\n",
    "    global reached\n",
    "\n",
    "    reached = reached + 1\n",
    "    time = timeit.timeit() - starting_goal_time\n",
    "    times[l] = time\n",
    "    l = l + 1\n",
    "jr.subscribe('/reaching_goal/result',PlanningActionResult, clbk)\n",
    "\n",
    "  \n",
    "#############################################################################\n",
    "\n"
   ]
  },
  {
   "cell_type": "code",
   "execution_count": 6,
   "id": "3e2f6bb4",
   "metadata": {},
   "outputs": [
    {
     "ename": "NameError",
     "evalue": "name 'widgets' is not defined",
     "output_type": "error",
     "traceback": [
      "\u001b[0;31m---------------------------------------------------------------------------\u001b[0m",
      "\u001b[0;31mNameError\u001b[0m                                 Traceback (most recent call last)",
      "\u001b[0;32m/tmp/ipykernel_1294/2766288682.py\u001b[0m in \u001b[0;36m<module>\u001b[0;34m\u001b[0m\n\u001b[0;32m----> 1\u001b[0;31m \u001b[0ma\u001b[0m \u001b[0;34m=\u001b[0m \u001b[0mwidgets\u001b[0m\u001b[0;34m.\u001b[0m\u001b[0mFloatSlider\u001b[0m\u001b[0;34m(\u001b[0m\u001b[0mmin\u001b[0m\u001b[0;34m=\u001b[0m\u001b[0;34m-\u001b[0m\u001b[0;36m1.0\u001b[0m\u001b[0;34m,\u001b[0m \u001b[0mmax\u001b[0m\u001b[0;34m=\u001b[0m\u001b[0;36m1.0\u001b[0m\u001b[0;34m)\u001b[0m\u001b[0;34m\u001b[0m\u001b[0;34m\u001b[0m\u001b[0m\n\u001b[0m\u001b[1;32m      2\u001b[0m \u001b[0mdisplay\u001b[0m\u001b[0;34m(\u001b[0m\u001b[0ma\u001b[0m\u001b[0;34m)\u001b[0m\u001b[0;34m\u001b[0m\u001b[0;34m\u001b[0m\u001b[0m\n\u001b[1;32m      3\u001b[0m \u001b[0;34m\u001b[0m\u001b[0m\n\u001b[1;32m      4\u001b[0m \u001b[0mb\u001b[0m \u001b[0;34m=\u001b[0m \u001b[0mwidgets\u001b[0m\u001b[0;34m.\u001b[0m\u001b[0mFloatSlider\u001b[0m\u001b[0;34m(\u001b[0m\u001b[0mmin\u001b[0m\u001b[0;34m=\u001b[0m\u001b[0;34m-\u001b[0m\u001b[0;36m1.0\u001b[0m\u001b[0;34m,\u001b[0m \u001b[0mmax\u001b[0m\u001b[0;34m=\u001b[0m\u001b[0;36m1.0\u001b[0m\u001b[0;34m)\u001b[0m\u001b[0;34m\u001b[0m\u001b[0;34m\u001b[0m\u001b[0m\n\u001b[1;32m      5\u001b[0m \u001b[0mdisplay\u001b[0m\u001b[0;34m(\u001b[0m\u001b[0mb\u001b[0m\u001b[0;34m)\u001b[0m\u001b[0;34m\u001b[0m\u001b[0;34m\u001b[0m\u001b[0m\n",
      "\u001b[0;31mNameError\u001b[0m: name 'widgets' is not defined"
     ]
    }
   ],
   "source": [
    "\n",
    "a = widgets.FloatSlider(min=-1.0, max=1.0)\n",
    "display(a)\n",
    "\n",
    "b = widgets.FloatSlider(min=-1.0, max=1.0)\n",
    "display(b)\n",
    "\n",
    "\n",
    "def on_value_change(change):\n",
    "    global msg\n",
    "    msg.linear.x = change['new']\n",
    "    pub.publish(msg)\n",
    "    \n",
    "def on_valueang_change(change):\n",
    "    global msg\n",
    "    msg.angular.z = change['new']\n",
    "    pub.publish(msg)\n",
    "\n",
    "a.observe(on_value_change, names='value')\n",
    "b.observe(on_valueang_change, names='value')"
   ]
  },
  {
   "cell_type": "code",
   "execution_count": 7,
   "id": "15814cd1",
   "metadata": {},
   "outputs": [
    {
     "ename": "NameError",
     "evalue": "name 'widgets' is not defined",
     "output_type": "error",
     "traceback": [
      "\u001b[0;31m---------------------------------------------------------------------------\u001b[0m",
      "\u001b[0;31mNameError\u001b[0m                                 Traceback (most recent call last)",
      "\u001b[0;32m/tmp/ipykernel_1294/2570320578.py\u001b[0m in \u001b[0;36m<module>\u001b[0;34m\u001b[0m\n\u001b[0;32m----> 1\u001b[0;31m \u001b[0mbutton1\u001b[0m \u001b[0;34m=\u001b[0m \u001b[0mwidgets\u001b[0m\u001b[0;34m.\u001b[0m\u001b[0mButton\u001b[0m\u001b[0;34m(\u001b[0m\u001b[0mdescription\u001b[0m\u001b[0;34m=\u001b[0m\u001b[0;34m\"^\"\u001b[0m\u001b[0;34m,\u001b[0m \u001b[0mlayout\u001b[0m\u001b[0;34m=\u001b[0m\u001b[0mLayout\u001b[0m\u001b[0;34m(\u001b[0m\u001b[0mwidth\u001b[0m\u001b[0;34m=\u001b[0m\u001b[0;34m'auto'\u001b[0m\u001b[0;34m,\u001b[0m \u001b[0mgrid_area\u001b[0m\u001b[0;34m=\u001b[0m\u001b[0;34m'button1'\u001b[0m\u001b[0;34m)\u001b[0m\u001b[0;34m)\u001b[0m\u001b[0;34m\u001b[0m\u001b[0;34m\u001b[0m\u001b[0m\n\u001b[0m\u001b[1;32m      2\u001b[0m \u001b[0moutput\u001b[0m \u001b[0;34m=\u001b[0m \u001b[0mwidgets\u001b[0m\u001b[0;34m.\u001b[0m\u001b[0mOutput\u001b[0m\u001b[0;34m(\u001b[0m\u001b[0;34m)\u001b[0m\u001b[0;34m\u001b[0m\u001b[0;34m\u001b[0m\u001b[0m\n\u001b[1;32m      3\u001b[0m \u001b[0;31m#display(button, output)\u001b[0m\u001b[0;34m\u001b[0m\u001b[0;34m\u001b[0m\u001b[0;34m\u001b[0m\u001b[0m\n\u001b[1;32m      4\u001b[0m \u001b[0;31m#handle changes, the observe method of the widget can be used to register a callback.\u001b[0m\u001b[0;34m\u001b[0m\u001b[0;34m\u001b[0m\u001b[0;34m\u001b[0m\u001b[0m\n\u001b[1;32m      5\u001b[0m \u001b[0;32mdef\u001b[0m \u001b[0mon_button_clicked1\u001b[0m\u001b[0;34m(\u001b[0m\u001b[0mb\u001b[0m\u001b[0;34m)\u001b[0m\u001b[0;34m:\u001b[0m\u001b[0;34m\u001b[0m\u001b[0;34m\u001b[0m\u001b[0m\n",
      "\u001b[0;31mNameError\u001b[0m: name 'widgets' is not defined"
     ]
    }
   ],
   "source": [
    "button1 = widgets.Button(description=\"^\", layout=Layout(width='auto', grid_area='button1'))\n",
    "output = widgets.Output()\n",
    "#display(button, output)\n",
    "#handle changes, the observe method of the widget can be used to register a callback.\n",
    "def on_button_clicked1(b):\n",
    "    with output:\n",
    "        #msg.linear.x =\n",
    "        \n",
    "        odom.pose.pose.position.x = 5\n",
    "        pub1.publish(odom)\n",
    "        \n",
    "        \n",
    "        ############msg.linear.Y = 3\n",
    "        #msg.linear.z =\n",
    "        #############pub.publish(msg)\n",
    "        #ui_client(\"start\")\n",
    "button1.on_click(on_button_clicked1)\n",
    "\n",
    "button2 = widgets.Button(description=\"<\", layout=Layout(width='auto', grid_area='button2'))\n",
    "output = widgets.Output()\n",
    "#display(button, output)\n",
    "#handle changes, the observe method of the widget can be used to register a callback.\n",
    "def on_button_clicked2(b):\n",
    "    with output:\n",
    "        msg.linear.x = -1\n",
    "        #msg.linear.y = \n",
    "        #msg.linear.z =\n",
    "        pub.publish(msg)\n",
    "button2.on_click(on_button_clicked2)\n",
    "\n",
    "button3 = widgets.Button(description=\">\", layout=Layout(width='auto', grid_area='button3'))\n",
    "output = widgets.Output()\n",
    "#display(button, output)\n",
    "#handle changes, the observe method of the widget can be used to register a callback.\n",
    "def on_button_clicked3(b):\n",
    "    with output:\n",
    "        msg.linear.x = 1\n",
    "        #msg.linear.y =\n",
    "        #msg.linear.z =\n",
    "        pub.publish(msg)\n",
    "button3.on_click(on_button_clicked3)\n",
    "\n",
    "button4 = widgets.Button(description=\"STOP\", layout=Layout(width='auto', grid_area='button4'))\n",
    "output = widgets.Output()\n",
    "#display(button, output)\n",
    "#handle changes, the observe method of the widget can be used to register a callback.\n",
    "def on_button_clicked4(b):\n",
    "    with output:\n",
    "        msg.linear.x = 0\n",
    "        msg.linear.y = 0\n",
    "        msg.linear.z = 0\n",
    "        msg.angular.z = 0\n",
    "        pub.publish(msg)\n",
    "button4.on_click(on_button_clicked4)\n",
    "\n",
    "button5 = widgets.Button(description=\"v\", layout=Layout(width='auto', grid_area='button5'))\n",
    "output = widgets.Output()\n",
    "#display(button, output)\n",
    "#handle changes, the observe method of the widget can be used to register a callback.\n",
    "def on_button_clicked5(b):\n",
    "    with output:\n",
    "        #msg.linear.x = 0\n",
    "        msg.angular.z = -3 \n",
    "        #msg.linear.z = \n",
    "        pub.publish(msg)\n",
    "button5.on_click(on_button_clicked5)\n",
    "\n",
    "widgets.GridBox(children=[button1, button2, button3, button4 ,button5],\n",
    "                layout=widgets.Layout(width='80%',grid_template_rows='auto auto auto',\n",
    "                grid_template_columns='16% 16% 16% 16% 16% 16% ',\n",
    "                grid_template_areas= '''\". button1 . \"\". button4 .\"\"button2 button5 button3\"''')\n",
    "               )\n",
    "\n"
   ]
  },
  {
   "cell_type": "code",
   "execution_count": 8,
   "id": "cd6b208f",
   "metadata": {},
   "outputs": [
    {
     "ename": "NameError",
     "evalue": "name 'plt' is not defined",
     "output_type": "error",
     "traceback": [
      "\u001b[0;31m---------------------------------------------------------------------------\u001b[0m",
      "\u001b[0;31mNameError\u001b[0m                                 Traceback (most recent call last)",
      "\u001b[0;32m/tmp/ipykernel_1294/205538850.py\u001b[0m in \u001b[0;36m<module>\u001b[0;34m\u001b[0m\n\u001b[1;32m      1\u001b[0m \u001b[0;31m# an xy graph showing the robot’s position\u001b[0m\u001b[0;34m\u001b[0m\u001b[0;34m\u001b[0m\u001b[0;34m\u001b[0m\u001b[0m\n\u001b[0;32m----> 2\u001b[0;31m \u001b[0mfig5\u001b[0m\u001b[0;34m,\u001b[0m \u001b[0max5\u001b[0m \u001b[0;34m=\u001b[0m \u001b[0mplt\u001b[0m\u001b[0;34m.\u001b[0m\u001b[0msubplots\u001b[0m\u001b[0;34m(\u001b[0m\u001b[0;34m)\u001b[0m\u001b[0;34m\u001b[0m\u001b[0;34m\u001b[0m\u001b[0m\n\u001b[0m\u001b[1;32m      3\u001b[0m \u001b[0;34m\u001b[0m\u001b[0m\n\u001b[1;32m      4\u001b[0m \u001b[0max5\u001b[0m\u001b[0;34m.\u001b[0m\u001b[0mset_xlim\u001b[0m\u001b[0;34m(\u001b[0m\u001b[0;34m(\u001b[0m \u001b[0;34m-\u001b[0m\u001b[0;36m5\u001b[0m\u001b[0;34m,\u001b[0m \u001b[0;36m5\u001b[0m\u001b[0;34m)\u001b[0m\u001b[0;34m)\u001b[0m\u001b[0;34m\u001b[0m\u001b[0;34m\u001b[0m\u001b[0m\n\u001b[1;32m      5\u001b[0m \u001b[0max5\u001b[0m\u001b[0;34m.\u001b[0m\u001b[0mset_ylim\u001b[0m\u001b[0;34m(\u001b[0m\u001b[0;34m(\u001b[0m\u001b[0;34m-\u001b[0m\u001b[0;36m5\u001b[0m\u001b[0;34m,\u001b[0m \u001b[0;36m5\u001b[0m\u001b[0;34m)\u001b[0m\u001b[0;34m)\u001b[0m\u001b[0;34m\u001b[0m\u001b[0;34m\u001b[0m\u001b[0m\n",
      "\u001b[0;31mNameError\u001b[0m: name 'plt' is not defined"
     ]
    }
   ],
   "source": [
    "# an xy graph showing the robot’s position\n",
    "fig5, ax5 = plt.subplots()\n",
    "\n",
    "ax5.set_xlim(( -5, 5))\n",
    "ax5.set_ylim((-5, 5))\n",
    "\n",
    "line5, = ax5.plot([], [], 'ro')\n",
    "x_data=[]\n",
    "y_data=[]\n",
    "\n",
    "#quiver([2, 2], 1, 1,)\n",
    "\n",
    "def init5():\n",
    "    line5.set_data([], [])\n",
    "    return (line5,)\n",
    "\n",
    "\n",
    "def odom_callback(msg):\n",
    "    y_data.append(msg.pose.pose.position.y)\n",
    "    x_data.append(msg.pose.pose.position.x)\n",
    "    #z_data.append(msg.pose.pose.orientation.z)\n",
    "\n",
    "\n",
    "def animate5(i):\n",
    "    line5.set_data(x_data, y_data)\n",
    "    return (line5)\n",
    "\n",
    "\n",
    "jr.subscribe('/odom', Odometry, odom_callback)\n",
    "anim5 = animation.FuncAnimation(fig5, animate5, init_func=init5,\n",
    "                               frames=100, interval=20, blit=True)"
   ]
  },
  {
   "cell_type": "code",
   "execution_count": 9,
   "id": "0a304794",
   "metadata": {},
   "outputs": [
    {
     "ename": "NameError",
     "evalue": "name 'plt' is not defined",
     "output_type": "error",
     "traceback": [
      "\u001b[0;31m---------------------------------------------------------------------------\u001b[0m",
      "\u001b[0;31mNameError\u001b[0m                                 Traceback (most recent call last)",
      "\u001b[0;32m/tmp/ipykernel_1294/2983643946.py\u001b[0m in \u001b[0;36m<module>\u001b[0;34m\u001b[0m\n\u001b[1;32m      1\u001b[0m \u001b[0;31m# bar plot displaying the number of reached targets and cancelled targets\u001b[0m\u001b[0;34m\u001b[0m\u001b[0;34m\u001b[0m\u001b[0;34m\u001b[0m\u001b[0m\n\u001b[1;32m      2\u001b[0m \u001b[0;31m#matplotlib.pyplot.bar(x, height, width=0.8, bottom=None, *, align='center', data=None, **kwargs)\u001b[0m\u001b[0;34m\u001b[0m\u001b[0;34m\u001b[0m\u001b[0;34m\u001b[0m\u001b[0m\n\u001b[0;32m----> 3\u001b[0;31m \u001b[0mfig\u001b[0m\u001b[0;34m,\u001b[0m\u001b[0max1\u001b[0m\u001b[0;34m=\u001b[0m \u001b[0mplt\u001b[0m\u001b[0;34m.\u001b[0m\u001b[0msubplots\u001b[0m\u001b[0;34m(\u001b[0m\u001b[0;34m)\u001b[0m\u001b[0;34m\u001b[0m\u001b[0;34m\u001b[0m\u001b[0m\n\u001b[0m\u001b[1;32m      4\u001b[0m \u001b[0;34m\u001b[0m\u001b[0m\n\u001b[1;32m      5\u001b[0m \u001b[0my\u001b[0m \u001b[0;34m=\u001b[0m \u001b[0;34m(\u001b[0m\u001b[0mreached\u001b[0m\u001b[0;34m,\u001b[0m\u001b[0mcancelled\u001b[0m\u001b[0;34m)\u001b[0m\u001b[0;34m\u001b[0m\u001b[0;34m\u001b[0m\u001b[0m\n",
      "\u001b[0;31mNameError\u001b[0m: name 'plt' is not defined"
     ]
    }
   ],
   "source": [
    "# bar plot displaying the number of reached targets and cancelled targets\n",
    "#matplotlib.pyplot.bar(x, height, width=0.8, bottom=None, *, align='center', data=None, **kwargs)\n",
    "fig,ax1= plt.subplots()\n",
    "\n",
    "y = (reached,cancelled)\n",
    "index = np.array(['Reached','Cancelled'])\n",
    "bar=ax1.bar(index,y,width=0.5,color='b')\n",
    "ax1.set_title(' number of reached targets and cancelled targets')\n",
    "\n"
   ]
  },
  {
   "cell_type": "code",
   "execution_count": 10,
   "id": "d7c5c349",
   "metadata": {},
   "outputs": [
    {
     "ename": "NameError",
     "evalue": "name 'plt' is not defined",
     "output_type": "error",
     "traceback": [
      "\u001b[0;31m---------------------------------------------------------------------------\u001b[0m",
      "\u001b[0;31mNameError\u001b[0m                                 Traceback (most recent call last)",
      "\u001b[0;32m/tmp/ipykernel_1294/3281305442.py\u001b[0m in \u001b[0;36m<module>\u001b[0;34m\u001b[0m\n\u001b[1;32m      2\u001b[0m \u001b[0;34m\u001b[0m\u001b[0m\n\u001b[1;32m      3\u001b[0m \u001b[0;31m#matplotlib.pyplot.bar(x, height, width=0.8, bottom=None, *, align='center', data=None, **kwargs)\u001b[0m\u001b[0;34m\u001b[0m\u001b[0;34m\u001b[0m\u001b[0;34m\u001b[0m\u001b[0m\n\u001b[0;32m----> 4\u001b[0;31m \u001b[0mf1\u001b[0m\u001b[0;34m,\u001b[0m\u001b[0maxis1\u001b[0m\u001b[0;34m=\u001b[0m \u001b[0mplt\u001b[0m\u001b[0;34m.\u001b[0m\u001b[0msubplots\u001b[0m\u001b[0;34m(\u001b[0m\u001b[0;34m)\u001b[0m\u001b[0;34m\u001b[0m\u001b[0;34m\u001b[0m\u001b[0m\n\u001b[0m\u001b[1;32m      5\u001b[0m \u001b[0mx\u001b[0m \u001b[0;34m=\u001b[0m \u001b[0mlen\u001b[0m\u001b[0;34m(\u001b[0m\u001b[0mtimes\u001b[0m\u001b[0;34m)\u001b[0m\u001b[0;34m\u001b[0m\u001b[0;34m\u001b[0m\u001b[0m\n\u001b[1;32m      6\u001b[0m \u001b[0mbar1\u001b[0m\u001b[0;34m=\u001b[0m\u001b[0maxis1\u001b[0m\u001b[0;34m.\u001b[0m\u001b[0mbar\u001b[0m\u001b[0;34m(\u001b[0m\u001b[0mx\u001b[0m\u001b[0;34m,\u001b[0m\u001b[0mtimes\u001b[0m\u001b[0;34m,\u001b[0m\u001b[0mwidth\u001b[0m\u001b[0;34m=\u001b[0m\u001b[0;36m0.5\u001b[0m\u001b[0;34m,\u001b[0m\u001b[0mcolor\u001b[0m\u001b[0;34m=\u001b[0m\u001b[0;34m'r'\u001b[0m\u001b[0;34m)\u001b[0m\u001b[0;34m\u001b[0m\u001b[0;34m\u001b[0m\u001b[0m\n",
      "\u001b[0;31mNameError\u001b[0m: name 'plt' is not defined"
     ]
    }
   ],
   "source": [
    "# hist plot showing the time required to reach targets\n",
    "\n",
    "#matplotlib.pyplot.bar(x, height, width=0.8, bottom=None, *, align='center', data=None, **kwargs)\n",
    "f1,axis1= plt.subplots()\n",
    "x = len(times)\n",
    "bar1=axis1.bar(x,times,width=0.5,color='r')\n",
    "axis2.set_title('time required to reach targets')\n"
   ]
  },
  {
   "cell_type": "code",
   "execution_count": 11,
   "id": "2f19d4bf",
   "metadata": {},
   "outputs": [
    {
     "ename": "NameError",
     "evalue": "name 'plt' is not defined",
     "output_type": "error",
     "traceback": [
      "\u001b[0;31m---------------------------------------------------------------------------\u001b[0m",
      "\u001b[0;31mNameError\u001b[0m                                 Traceback (most recent call last)",
      "\u001b[0;32m/tmp/ipykernel_1294/2984895216.py\u001b[0m in \u001b[0;36m<module>\u001b[0;34m\u001b[0m\n\u001b[1;32m      1\u001b[0m \u001b[0;31m#a line plot for visualizing cmd_vel vs. actual velocity (for linear and angular velocity)\u001b[0m\u001b[0;34m\u001b[0m\u001b[0;34m\u001b[0m\u001b[0;34m\u001b[0m\u001b[0m\n\u001b[0;32m----> 2\u001b[0;31m \u001b[0mfig1\u001b[0m\u001b[0;34m,\u001b[0m \u001b[0max1\u001b[0m \u001b[0;34m=\u001b[0m \u001b[0mplt\u001b[0m\u001b[0;34m.\u001b[0m\u001b[0msubplots\u001b[0m\u001b[0;34m(\u001b[0m\u001b[0;34m)\u001b[0m\u001b[0;34m\u001b[0m\u001b[0;34m\u001b[0m\u001b[0m\n\u001b[0m\u001b[1;32m      3\u001b[0m \u001b[0;34m\u001b[0m\u001b[0m\n\u001b[1;32m      4\u001b[0m \u001b[0max1\u001b[0m\u001b[0;34m.\u001b[0m\u001b[0mset_xlim\u001b[0m\u001b[0;34m(\u001b[0m\u001b[0;34m(\u001b[0m \u001b[0;34m-\u001b[0m\u001b[0;36m5\u001b[0m\u001b[0;34m,\u001b[0m \u001b[0;36m5\u001b[0m\u001b[0;34m)\u001b[0m\u001b[0;34m)\u001b[0m\u001b[0;34m\u001b[0m\u001b[0;34m\u001b[0m\u001b[0m\n\u001b[1;32m      5\u001b[0m \u001b[0max2\u001b[0m\u001b[0;34m.\u001b[0m\u001b[0mset_ylim\u001b[0m\u001b[0;34m(\u001b[0m\u001b[0;34m(\u001b[0m\u001b[0;34m-\u001b[0m\u001b[0;36m5\u001b[0m\u001b[0;34m,\u001b[0m \u001b[0;36m5\u001b[0m\u001b[0;34m)\u001b[0m\u001b[0;34m)\u001b[0m\u001b[0;34m\u001b[0m\u001b[0;34m\u001b[0m\u001b[0m\n",
      "\u001b[0;31mNameError\u001b[0m: name 'plt' is not defined"
     ]
    }
   ],
   "source": [
    "#a line plot for visualizing cmd_vel vs. actual velocity (for linear and angular velocity)\n",
    "fig1, ax1 = plt.subplots()\n",
    "\n",
    "ax1.set_xlim(( -5, 5))\n",
    "ax2.set_ylim((-5, 5))\n",
    "\n",
    "line1, = ax1.plot([], [], 'ro')\n",
    "line2, = ax1.plot([], [], 'ro')\n",
    "line3, = ax1.plot([], [], 'ro')\n",
    "line4, = ax1.plot([], [], 'ro')\n",
    "\n",
    "ax1.set_xlabel('time (s)') \n",
    "ax1.set_ylabel('velocity m/s')\n",
    "\n",
    "\n",
    "\n",
    "###########from cmd vel\n",
    "ris_lin = math.sqrt((pow(msg.linear.x,2))+ (pow(msg.linear.y,2))) #calculates the resultant of the velocity\n",
    "                   \n",
    "ris_ang = msg.angular.z\n",
    "###########from odom\n",
    "jr.subscribe('/odom',Odometry, clb_odom)\n",
    "\n",
    "actual_x = msg.pose.pose.orientation.x\n",
    "actual_z = msg.pose.pose.orientation.y\n",
    "actual_z = msg.twist.twist.angular.z\n",
    "\n",
    "\n",
    "\n",
    "\n",
    "                   \n",
    "actual_time = timeit.timeit() - initial_time\n",
    "\n",
    "#x_data=[]\n",
    "#y_data=[]\n",
    "\n",
    "#quiver([2, 2], 1, 1,)\n",
    "\n",
    "def init1():\n",
    "    line1.set_data([], [])\n",
    "    line2.set_data([], [])\n",
    "    line3.set_data([], [])\n",
    "    line4.set_data([], [])\n",
    "    return (line, line2, line3, line4)\n",
    "\n",
    "def animate1(i):\n",
    "    line1.set_data(actual_time, ris_lin)\n",
    "    line2.set_data(actual_time, ris_ang )\n",
    "    line3.set_data(actual_time, ris_odom_ang )\n",
    "    line4.set_data(actual_time, ris_odom_ang )\n",
    "    return (line1, line2)\n",
    "\n",
    "anim1 = animation.FuncAnimation(fig1, animate1, init_func=init1,\n",
    "                               frames=100, interval=20, blit=True)\n",
    "\n",
    "\n",
    "\n",
    "\n"
   ]
  },
  {
   "cell_type": "code",
   "execution_count": null,
   "id": "6c30706a",
   "metadata": {},
   "outputs": [],
   "source": []
  },
  {
   "cell_type": "code",
   "execution_count": 9,
   "id": "8db04c1e",
   "metadata": {},
   "outputs": [],
   "source": [
    "\n"
   ]
  },
  {
   "cell_type": "code",
   "execution_count": null,
   "id": "f3572a7b",
   "metadata": {},
   "outputs": [],
   "source": []
  }
 ],
 "metadata": {
  "kernelspec": {
   "display_name": "Python 3 (ipykernel)",
   "language": "python",
   "name": "python3"
  },
  "language_info": {
   "codemirror_mode": {
    "name": "ipython",
    "version": 3
   },
   "file_extension": ".py",
   "mimetype": "text/x-python",
   "name": "python",
   "nbconvert_exporter": "python",
   "pygments_lexer": "ipython3",
   "version": "3.8.5"
  }
 },
 "nbformat": 4,
 "nbformat_minor": 5
}
